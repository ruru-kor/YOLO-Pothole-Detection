{
  "nbformat": 4,
  "nbformat_minor": 0,
  "metadata": {
    "colab": {
      "provenance": []
    },
    "kernelspec": {
      "name": "python3",
      "display_name": "Python 3"
    },
    "language_info": {
      "name": "python"
    }
  },
  "cells": [
    {
      "cell_type": "code",
      "source": [
        "# #로보플로우 인스톨\n",
        "# !pip install roboflow\n",
        "\n",
        "# # 데이터셋이 필요하다면? 실행 (로보플로우 개인계정 입력)\n",
        "# from roboflow import Roboflow\n",
        "# rf = Roboflow(api_key=\"yLAhjKBVAsQJFxlLau6Z\")\n",
        "# project = rf.workspace(\"ruru-nvvqp\").project(\"pothole-bh5z9\")\n",
        "# version = project.version(2)\n",
        "# dataset = version.download(\"yolov8-obb\")\n",
        "\n",
        "#yolo8을 위한 라이브러리설치\n",
        "\n",
        "!pip install ultralytics\n",
        "\n",
        "# 데이터셋 존재여부확인\n",
        "import os\n",
        "!ls {dataset.location}/\n",
        "\n",
        "#yolo 학습\n",
        "\n",
        "from ultralytics import YOLO\n",
        "\n",
        "#모델생성(사전학습)_nsml변경가능\n",
        "model = YOLO('yolov8n.pt')\n",
        "\n",
        "#학습시작\n",
        "model.train(data='/content/pothole-2/data.yaml', epochs=70, imgsz=640)\n"
      ],
      "metadata": {
        "id": "jccF60RenbaQ"
      },
      "execution_count": null,
      "outputs": []
    },
    {
      "cell_type": "code",
      "execution_count": null,
      "metadata": {
        "id": "4DneHnFZnIyc"
      },
      "outputs": [],
      "source": [
        "#결과확인\n",
        "\n",
        "import cv2\n",
        "from ultralytics import YOLO\n",
        "from IPython.display import display, Image\n",
        "import tempfile\n",
        "\n",
        "# YOLO 모델+best.pt가져오기\n",
        "model = YOLO('/content/best.pt')\n",
        "\n",
        "# 비디오 파일 경로 (내가 테스트해보고 싶은 영상)\n",
        "video_path = '/content/TEST3.mp4'\n",
        "\n",
        "# 비디오 읽기\n",
        "cap = cv2.VideoCapture(video_path)\n",
        "fps = int(cap.get(cv2.CAP_PROP_FPS))\n",
        "width = int(cap.get(cv2.CAP_PROP_FRAME_WIDTH))\n",
        "height = int(cap.get(cv2.CAP_PROP_FRAME_HEIGHT))\n",
        "\n",
        "# output video 파일명+경로설정\n",
        "output_path = '/content/output_video.mp4'\n",
        "fourcc = cv2.VideoWriter_fourcc(*'mp4v')\n",
        "out = cv2.VideoWriter(output_path, fourcc, fps, (width, height))\n",
        "\n",
        "while cap.isOpened():\n",
        "    ret, frame = cap.read()\n",
        "    if not ret:\n",
        "        break\n",
        "\n",
        "    # YOLO로 프레임 처리\n",
        "    results = model.predict(source=frame, save=False, show=False)\n",
        "    annotated_frame = results[0].plot()  # 결과가 그려진 프레임\n",
        "\n",
        "    # 결과를 출력 비디오에 쓰기\n",
        "    out.write(annotated_frame)\n",
        "\n",
        "# 비디오 끄기\n",
        "cap.release()\n",
        "out.release()\n",
        "\n",
        "# # Colab에서 비디오 보기(선택가능! 안하는게 더 가벼워요)\n",
        "# from IPython.display import Video\n",
        "# display(Video(output_path, embed=True))\n"
      ]
    }
  ]
}